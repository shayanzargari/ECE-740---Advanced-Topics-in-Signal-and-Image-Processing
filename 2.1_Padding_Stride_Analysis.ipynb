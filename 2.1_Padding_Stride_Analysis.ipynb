{
  "cells": [
    {
      "cell_type": "code",
      "execution_count": null,
      "metadata": {},
      "outputs": [],
      "source": [
        "import tensorflow as tf\n",
        "from tensorflow import keras\n",
        "import numpy as np\n",
        "import matplotlib.pyplot as plt\n",
        "np.set_printoptions(threshold=np.inf)\n",
        "\n",
        "data = np.zeros((1, 5, 5, 1))\n",
        "data[0, :, :, 0] = np.array([[0, 2, 2, 0, 1],\n",
        "                             [2, 1, 0, 1, 1],\n",
        "                             [2, 1, 1, 0, 2],\n",
        "                             [0, 0, 2, 2, 1],\n",
        "                             [1, 2, 2, 0, 2]])\n",
        "\n",
        "data_padded = tf.pad(data, ((0, 0), (1, 1), (1, 1), (0, 0)),\n",
        "                     mode='CONSTANT', constant_values=0)\n",
        "\n",
        "kernel = np.array([[[[0, 0, 0], [0, 0, 1], [1, 1, 0]]]])\n",
        "\n",
        "model = keras.Sequential([keras.layers.Conv2D(input_shape=(5, 5, 1),\n",
        "                                              filters=1,\n",
        "                                              kernel_size=(3, 3),\n",
        "                                              padding='valid',\n",
        "                                              strides=1,\n",
        "                                              use_bias=False)\n",
        "                          ])\n",
        "\n",
        "model.layers[0].set_weights([kernel.transpose((2, 3, 1, 0))])\n",
        "output1 = model.predict(data, verbose=0)\n",
        "\n",
        "model2 = keras.Sequential([keras.layers.ZeroPadding2D(input_shape=(5, 5, 1), padding=1),\n",
        "                           keras.layers.Conv2D(filters=1,\n",
        "                                               kernel_size=(3, 3),\n",
        "                                               padding='valid',\n",
        "                                               strides=2,\n",
        "                                               use_bias=False)\n",
        "                           ])\n",
        "\n",
        "model2.layers[1].set_weights([kernel.transpose((2, 3, 1, 0))])\n",
        "output2 = model2.predict(data, verbose=0)\n",
        "\n",
        "# Print the results\n",
        "print(\"-\" * 60)\n",
        "print(\"Case 1: Padding = 0, Stride = 1\")\n",
        "print(\"-\" * 60)\n",
        "print(f\"Data without padding:\\n{data.squeeze()}\")\n",
        "print(f\"Kernel:\\n{kernel.squeeze()}\")\n",
        "print(f\"Output:\\n{output1.squeeze()}\")\n",
        "\n",
        "print(\"\\n\" , \"-\" * 60)\n",
        "print(\"Case 2: Padding = 1, Stride = 2\")\n",
        "print(\"-\" * 60)\n",
        "print(f\"Data with padding:\\n{np.squeeze(data_padded.numpy())}\")\n",
        "print(f\"Kernel: \\n{kernel.squeeze()}\")\n",
        "print(f\"\\nOutput: \\n{output2.squeeze()}\")\n",
        "\n",
        "# Plot the results\n",
        "fig, axes = plt.subplots(2, 2, figsize=(8, 8))\n",
        "\n",
        "axes[0, 0].imshow(data.squeeze(), cmap=plt.cm.binary)\n",
        "axes[0, 0].set_title(\"Data without padding\")\n",
        "\n",
        "axes[0, 1].imshow(np.squeeze(data_padded.numpy()), cmap=plt.cm.binary)\n",
        "axes[0, 1].set_title(\"Data with padding\")\n",
        "\n",
        "axes[1, 0].imshow(output1.squeeze(), cmap=plt.cm.binary)\n",
        "axes[1, 0].set_title(\"Output 1\")\n",
        "\n",
        "axes[1, 1].imshow(output2.squeeze(), cmap=plt.cm.binary)\n",
        "axes[1, 1].set_title(\"Output 2\")\n",
        "plt.savefig('padding_pic.eps', format='eps')\n",
        "\n",
        "plt.show()"
      ]
    }
  ],
  "metadata": {
    "colab": {
      "collapsed_sections": [],
      "name": "Assignment2.ipynb",
      "provenance": []
    },
    "kernelspec": {
      "display_name": "Python 3",
      "language": "python",
      "name": "python3"
    },
    "language_info": {
      "name": "python",
      "version": "3.9.13"
    },
    "vscode": {
      "interpreter": {
        "hash": "4bddac36cb76400c067a83636f0c190fb20747b47108d6c043e552b4660b69a2"
      }
    }
  },
  "nbformat": 4,
  "nbformat_minor": 0
}
